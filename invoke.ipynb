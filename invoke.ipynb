{
 "cells": [
  {
   "cell_type": "code",
   "execution_count": 2,
   "outputs": [
    {
     "name": "stdout",
     "output_type": "stream",
     "text": [
      "1\n",
      "2\n",
      "3\n",
      "4\n",
      "5\n",
      "6\n",
      "7\n",
      "8\n",
      "9\n"
     ]
    }
   ],
   "source": [
    "for i in range(1, 10):\n",
    "    print(i)"
   ],
   "metadata": {
    "collapsed": false
   }
  },
  {
   "cell_type": "code",
   "execution_count": 1,
   "outputs": [],
   "source": [
    "exit()"
   ],
   "metadata": {
    "collapsed": false
   }
  },
  {
   "cell_type": "code",
   "execution_count": 1,
   "outputs": [
    {
     "name": "stdout",
     "output_type": "stream",
     "text": [
      "3.9.18 (main, Sep 11 2023, 13:41:44) \n",
      "[GCC 11.2.0]\n"
     ]
    }
   ],
   "source": [
    "#显示python版本号\n",
    "import sys\n",
    "print(sys.version)"
   ],
   "metadata": {
    "collapsed": false,
    "pycharm": {
     "name": "#%%x\n"
    }
   }
  },
  {
   "cell_type": "code",
   "execution_count": 1,
   "outputs": [
    {
     "name": "stdout",
     "output_type": "stream",
     "text": [
      "Linux-5.15.0-84-generic-x86_64-with-glibc2.35\n",
      "#93-Ubuntu SMP Tue Sep 5 17:16:10 UTC 2023\n",
      "('64bit', 'ELF')\n",
      "x86_64\n",
      "x86_64\n",
      "Linux\n",
      "uname_result(system='Linux', node='gcloud-fortest', release='5.15.0-84-generic', version='#93-Ubuntu SMP Tue Sep 5 17:16:10 UTC 2023', machine='x86_64')\n"
     ]
    }
   ],
   "source": [
    "#显示系统版本号\n",
    "import platform\n",
    "print(platform.platform())\n",
    "#显示系统发行版本\n",
    "print(platform.version())\n",
    "#显示系统架构\n",
    "print(platform.architecture())\n",
    "#显示系统处理器\n",
    "print(platform.processor())\n",
    "#显示系统位数\n",
    "print(platform.machine())\n",
    "#显示系统名称\n",
    "print(platform.system())\n",
    "#显示系统日期\n",
    "print(platform.uname())"
   ],
   "metadata": {
    "collapsed": false
   }
  },
  {
   "cell_type": "code",
   "execution_count": 1,
   "outputs": [
    {
     "name": "stdout",
     "output_type": "stream",
     "text": [
      "Linux\n"
     ]
    }
   ],
   "source": [
    "import platform\n",
    "if  platform.system() == \"Windows\":\n",
    "    print('Windows')\n",
    "elif platform.system() == \"Linux\":\n",
    "    print('Linux')\n",
    "elif platform.system() == \"Darwin\":\n",
    "    print('Mac OS X')\n",
    "else:\n",
    "    print('Other')\n"
   ],
   "metadata": {
    "collapsed": false,
    "pycharm": {
     "name": "#%%print\n"
    }
   }
  },
  {
   "cell_type": "code",
   "execution_count": 3,
   "outputs": [
    {
     "data": {
      "text/plain": "sys.float_info(max=1.7976931348623157e+308, max_exp=1024, max_10_exp=308, min=2.2250738585072014e-308, min_exp=-1021, min_10_exp=-307, dig=15, mant_dig=53, epsilon=2.220446049250313e-16, radix=2, rounds=1)"
     },
     "execution_count": 3,
     "metadata": {},
     "output_type": "execute_result"
    }
   ],
   "source": [
    "import sys\n",
    "sys.float_info"
   ],
   "metadata": {
    "collapsed": false
   }
  }
 ],
 "metadata": {
  "kernelspec": {
   "display_name": "Python 3",
   "language": "python",
   "name": "python3"
  },
  "language_info": {
   "codemirror_mode": {
    "name": "ipython",
    "version": 2
   },
   "file_extension": ".py",
   "mimetype": "text/x-python",
   "name": "python",
   "nbconvert_exporter": "python",
   "pygments_lexer": "ipython2",
   "version": "2.7.6"
  }
 },
 "nbformat": 4,
 "nbformat_minor": 0
}
